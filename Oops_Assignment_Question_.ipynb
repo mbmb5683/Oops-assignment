{
  "nbformat": 4,
  "nbformat_minor": 0,
  "metadata": {
    "colab": {
      "provenance": []
    },
    "kernelspec": {
      "name": "python3",
      "display_name": "Python 3"
    },
    "language_info": {
      "name": "python"
    }
  },
  "cells": [
    {
      "cell_type": "markdown",
      "source": [
        "#                     **Oops Assignment Question**"
      ],
      "metadata": {
        "id": "EV3lJBZ63koC"
      }
    },
    {
      "cell_type": "markdown",
      "source": [
        "# Theory Question   \n",
        "\n",
        "1. What is Object-Oriented Programming(OOP)?\n",
        "2. What is a class in oop?\n",
        "3. What is a object in oop?\n",
        "4. What is the difference between abstraction and encapsulation?\n",
        "5. What are dunder methods in python?\n",
        "6. Explain the concept of inheritance in oop.\n",
        "7. What is polymorphims in oop?\n",
        "8. How is Encapsulation achieved in oop?\n",
        "9. What is a constructor in python ?\n",
        "10. What are class and static methods in python?\n",
        "11. What is method overloading in python?\n",
        "12. What is method overriding in python?\n",
        "13. What is property decorator in python?\n",
        "14. Why is polymorphims important in oop?\n",
        "15. What is an abstract class in python ?\n",
        "16. What are the advantages of oop?\n",
        "17. What is the difference between a class variable and an instance variable?\n",
        "18. What is multiple inheritance in python?\n",
        "19. Explain the purpose of \"__str__\" and \"__repr__\" methods in python.\n",
        "20. What is the significance of the super () function in python?\n",
        "21. What is the significance of the __del__ method in python?\n",
        "22. What is the difference between @staticmethod and @classmethod in python?\n",
        "23. How does polymorphims work in python with inheritance?\n",
        "24. What is method chaining in python oop?\n",
        "25. What is the purpose of the __call__ method in python?"
      ],
      "metadata": {
        "id": "iUBNi9Oq3kMP"
      }
    },
    {
      "cell_type": "markdown",
      "source": [
        "# Therory Answer    \n",
        "\n",
        "\n",
        "1. oops is a programming method that provides a way to programming to make the code more in proper format and it provide the concept of class and object (which are user defined).\n",
        "\n",
        "2. class are the blueprint that is used for creating the object.\n",
        "\n",
        "\n",
        "3. object are the instances of class and they binds the attributes together and methods also.\n",
        "\n",
        "\n",
        "4. abstraction : Hiding the internal implementation and showing only the essential features.\n",
        "   \n",
        "   encapsulation : encapsulation is used to build data and methods in single unit and direct access are restricted by using public, protected and private access modifiers.\n",
        "\n",
        "\n",
        "5. Dunder methods : Dunder methods are also called the magic or special method because it provides the values to instance of the class.\n",
        " like:\n",
        "       __init__\n",
        "       __call__\n",
        "       __add__\n",
        "       __sub__ and many more\n",
        "\n",
        "\n",
        "6. Inheritance : as we can understand by the name only that it inherits the property of ther parent class means they are able to access the attributes , data and methods of parent class .\n",
        "types of inheritance :\n",
        "                       single inheritancle\n",
        "                       multi- level inheritance\n",
        "                       mupltiple inheritance\n",
        "                       hybrid inheritance\n",
        "                       hierarcial inheritance\n",
        "\n",
        "\n",
        "7. Polymorphims: Polymorphims are made of two words poly means name and morphims means many from .\n",
        "The concept of polymorphims helps a lot at a single time methods acts as many forms it depends on the condition.\n",
        "\n",
        "in polymorphims we use:\n",
        "\n",
        "                       1. method overloading\n",
        "                       2. method overriding\n",
        "\n",
        "\n",
        "8. Encapsulation are achieved by access modifiers :  \n",
        "\n",
        "                        1. public\n",
        "                        2. private\n",
        "                        3. protected\n",
        "\n",
        "\n",
        "9. The constructor in Python is always named __init__()\n",
        "\n",
        "It runs automatically when you create an object of a class.\n",
        "\n",
        "It is used to assign values to the object’s attributes.\n",
        "\n",
        "\n",
        "10. class method :\n",
        "                   class refers directly to the class and uses \"cls\"\n",
        "                   class method can access and modify the attributes and methods\n",
        "                   it does not require any instance of the class\n",
        "\n",
        "    static method:\n",
        "                  static refers directly to the class and uses does not uses \"cls\" or \"self\"\n",
        "                  static method cannot access and modify the attributes and methods\n",
        "                  it does not require any instance of the class\n",
        "\n",
        "\n",
        "\n",
        "\n",
        "11. Method overloading: Method Overloading means having multiple methods with the same name but different parameters (number or type) within a class.\n",
        "\n",
        "\n",
        "12. Method overriding: Method Overriding is a feature in Object-Oriented Programming where a child class redefines a method that it inherited from a parent class.\n",
        "\n",
        "\n",
        "13. property decorators are used to decorate the code without interupting or changing in their code and it access the methods of the class as attributes\n",
        "\n",
        "\n",
        "14. Polymorphims are important because in polymorphims methods can change it's behaviour according to the situation.\n",
        "\n",
        "\n",
        "15. Abstract class : An abstract class in Python is a class that cannot be instantiated directly. It is meant to be inherited by other classes, and it often contains abstract methods that must be implemented in the child classes.\n",
        "\n",
        "\n",
        "16. oops advantages: we can use inhertance , polymorphims, encapsulation , abstraction method in our code to make it more efficient.\n",
        "\n",
        "\n",
        "17. class variable: they are defined outside the methods of the class , Shared by all objects of the class.\n",
        "\n",
        "Instance variable :Belongs to a specific object (instance). Each object has its own copy.\n",
        "\n",
        "\n",
        "18. In multiple inheritance a hierarchy starts to access the property/ methods of the parent and grand-parent class.\n",
        "\n",
        "grand-parent>>>>>parent>>>>>grandson>>>>>>>great-grandson......\n",
        "\n",
        "\n",
        "19. __str__: Called by print(object) or str(object)\n",
        "\n",
        "Purpose: Provide a user-friendly string representation\n",
        "\n",
        "Used for: Display to end-users\n",
        "\n",
        "\n",
        "__repr__: Called by repr(object) or when printed inside a list, dict, or shell\n",
        "\n",
        "Purpose: Provide an unambiguous, often code-like, representation\n",
        "\n",
        "\n",
        "20. we use super() function to access all the methods and attributes of the class .\n",
        "\n",
        "21. del method is used to delete the attribute or methods of the class.\n",
        "\n",
        "\n",
        "22. @staticmethod : don't need \"self\" and \"cls\"\n",
        "    @classmetthod: it needs \"cls\" to take the class as first argument\n",
        "\n",
        "23. Polymorphism in Python allows objects of different classes to be treated as if they were of the same class, especially when they share a common parent class.\n",
        "Polymorphism means “many forms” — the same method name behaves differently based on the object calling it.\n",
        "\n",
        "How It Works with Inheritance:\n",
        "\n",
        "You define a base class with a method.\n",
        "\n",
        "You create child classes that override that method.\n",
        "\n",
        "You use a common reference (like the parent class) to call that method.\n",
        "\n",
        "Python automatically runs the appropriate version based on the object’s class.\n",
        "\n",
        "\n",
        "24. Method chaining is a programming technique in which multiple methods are called on the same object, one after another, in a single line of code.\n",
        "\n",
        "\n",
        "25. The __call__() method in Python allows an object to be called like a function."
      ],
      "metadata": {
        "id": "6g9X-g4634eR"
      }
    },
    {
      "cell_type": "markdown",
      "source": [
        "# Practical Question"
      ],
      "metadata": {
        "id": "zDWXoy3x4Hs4"
      }
    },
    {
      "cell_type": "code",
      "execution_count": null,
      "metadata": {
        "id": "ebOzeaV53UNC"
      },
      "outputs": [],
      "source": [
        "#Q1. Create a parent class with a method speak () that prints a generic message . Create a child class Dog that overrides the speak() method to print \"Bark!\"\n",
        "\n",
        "class Animal:\n",
        "  def speak (self):\n",
        "    print(\"animal sound\")\n",
        "\n",
        "class Dog (Animal):\n",
        "  def speak(self):\n",
        "    print(\"bark\")"
      ]
    },
    {
      "cell_type": "code",
      "source": [
        "d1= Dog()"
      ],
      "metadata": {
        "id": "Xncm-yAA5ImG"
      },
      "execution_count": null,
      "outputs": []
    },
    {
      "cell_type": "code",
      "source": [
        "d1.speak()"
      ],
      "metadata": {
        "colab": {
          "base_uri": "https://localhost:8080/"
        },
        "id": "734xkz7b5Ndc",
        "outputId": "31dda5b9-52aa-40b7-cae1-998f8e26b818"
      },
      "execution_count": null,
      "outputs": [
        {
          "output_type": "stream",
          "name": "stdout",
          "text": [
            "bark\n"
          ]
        }
      ]
    },
    {
      "cell_type": "code",
      "source": [
        "#Q2. Write a program to create an abstract class shape with a method area() . Derive classes circle and rectangle from it and implement the area () method in both.\n",
        "\n",
        "from abc import ABC, abstractmethod\n",
        "import math\n",
        "\n",
        "class Shape(ABC):\n",
        "  @abstractmethod\n",
        "  def area (self):\n",
        "    pass\n",
        "\n",
        "class Circle(Shape):\n",
        "  def __init__(self,radius):\n",
        "    self.__radius=radius\n",
        "\n",
        "  def area(self):\n",
        "    print( \"the area of the circle is:\", math.pi*self.__radius**2)\n",
        "\n",
        "\n",
        "class Rectangle(Shape):\n",
        "  def __init__(self,length , width):\n",
        "    self.__length=length\n",
        "    self.__width=width\n",
        "\n",
        "  def area(self):\n",
        "    print( \"the area of the rectangle is:\",self.__length*self.__width)\n"
      ],
      "metadata": {
        "id": "kyXFL7du5Pdn"
      },
      "execution_count": null,
      "outputs": []
    },
    {
      "cell_type": "code",
      "source": [
        "c1= Circle(2)"
      ],
      "metadata": {
        "id": "BzcoVdEz7ddb"
      },
      "execution_count": null,
      "outputs": []
    },
    {
      "cell_type": "code",
      "source": [
        "c1.area()"
      ],
      "metadata": {
        "colab": {
          "base_uri": "https://localhost:8080/"
        },
        "id": "bvckcssB7kJv",
        "outputId": "aed8ffd9-82b4-4977-c15c-8844e3f307d3"
      },
      "execution_count": null,
      "outputs": [
        {
          "output_type": "stream",
          "name": "stdout",
          "text": [
            "the area of the circle is: 12.566370614359172\n"
          ]
        }
      ]
    },
    {
      "cell_type": "code",
      "source": [
        "r1= Rectangle(2,3)"
      ],
      "metadata": {
        "id": "dvOrv0M47mxS"
      },
      "execution_count": null,
      "outputs": []
    },
    {
      "cell_type": "code",
      "source": [
        "r1.area()"
      ],
      "metadata": {
        "colab": {
          "base_uri": "https://localhost:8080/"
        },
        "id": "RUMPDN857_L9",
        "outputId": "561835bc-4d8a-488c-b950-3c78f65bae17"
      },
      "execution_count": null,
      "outputs": [
        {
          "output_type": "stream",
          "name": "stdout",
          "text": [
            "the area of the rectangle is: 6\n"
          ]
        }
      ]
    },
    {
      "cell_type": "code",
      "source": [
        "#Q3. Implement a multi-level inheritance scenario where class Vehicle has an attribute type. Derive a class car and further derive a class Electriccar that adds a battery attribute.\n",
        "\n",
        "class Vehicle:\n",
        "  def __init__(self, type):\n",
        "    self.type=type\n",
        "\n",
        "class Car(Vehicle):\n",
        "  def __init__(self, type, brand):\n",
        "    self.type=type\n",
        "    self.brand=brand\n",
        "\n",
        "class Electriccar:\n",
        "  def __init__(self, type, brand , battery) -> None:\n",
        "    self.type=type\n",
        "    self.brand=brand\n",
        "    self.battery=battery\n",
        "\n"
      ],
      "metadata": {
        "id": "oximm4V_-v-9"
      },
      "execution_count": null,
      "outputs": []
    },
    {
      "cell_type": "code",
      "source": [
        "v1= Vehicle(\"car\")"
      ],
      "metadata": {
        "id": "l46RtANMBEVj"
      },
      "execution_count": null,
      "outputs": []
    },
    {
      "cell_type": "code",
      "source": [
        "v1.type"
      ],
      "metadata": {
        "colab": {
          "base_uri": "https://localhost:8080/",
          "height": 35
        },
        "id": "s5xtSD9bBI2U",
        "outputId": "2ef4482e-31cf-4e25-d4bf-85d4cefbb674"
      },
      "execution_count": null,
      "outputs": [
        {
          "output_type": "execute_result",
          "data": {
            "text/plain": [
              "'car'"
            ],
            "application/vnd.google.colaboratory.intrinsic+json": {
              "type": "string"
            }
          },
          "metadata": {},
          "execution_count": 3
        }
      ]
    },
    {
      "cell_type": "code",
      "source": [
        "c1=Car(\"car\", \"BMW\")"
      ],
      "metadata": {
        "id": "ryRrVzghBLgy"
      },
      "execution_count": null,
      "outputs": []
    },
    {
      "cell_type": "code",
      "source": [
        "print(c1.type)\n",
        "print(c1.brand)"
      ],
      "metadata": {
        "colab": {
          "base_uri": "https://localhost:8080/"
        },
        "id": "vM9Yx6MsBTU0",
        "outputId": "8e9eab23-e061-4167-8f53-135b16c4b64e"
      },
      "execution_count": null,
      "outputs": [
        {
          "output_type": "stream",
          "name": "stdout",
          "text": [
            "car\n",
            "BMW\n"
          ]
        }
      ]
    },
    {
      "cell_type": "code",
      "source": [
        "electricvehicle=Electriccar(\"car\",\"Honda\", 1000)"
      ],
      "metadata": {
        "id": "gujOKok5BXL8"
      },
      "execution_count": null,
      "outputs": []
    },
    {
      "cell_type": "code",
      "source": [
        "print(electricvehicle.type)\n",
        "print(electricvehicle.brand)\n",
        "print(electricvehicle.battery)"
      ],
      "metadata": {
        "colab": {
          "base_uri": "https://localhost:8080/"
        },
        "id": "____9sH7BrRl",
        "outputId": "267e3d04-c403-4021-a504-65d2d9844b2c"
      },
      "execution_count": null,
      "outputs": [
        {
          "output_type": "stream",
          "name": "stdout",
          "text": [
            "car\n",
            "Honda\n",
            "1000\n"
          ]
        }
      ]
    },
    {
      "cell_type": "code",
      "source": [
        "#Q4. Demonstrate polymorphims by creating a base class Bird with the method fly() Create two derived classes Sparrow and Penguin that override the fly() method.\n",
        "\n",
        "class Bird:\n",
        "  def fly(self):\n",
        "    print(\"i am from bird class\")\n",
        "\n",
        "class Sparrow(Bird):\n",
        "  def fly(self):\n",
        "    print(\"i am from the sparrow class\")\n",
        "\n",
        "class Penguin (Bird):\n",
        "  def fly (self):\n",
        "    print(\"i belongs to the pengiun class\")\n",
        "\n"
      ],
      "metadata": {
        "id": "GNghm7Y-B5lK"
      },
      "execution_count": null,
      "outputs": []
    },
    {
      "cell_type": "code",
      "source": [
        "bird=Bird()"
      ],
      "metadata": {
        "id": "-DsID69BDD3T"
      },
      "execution_count": null,
      "outputs": []
    },
    {
      "cell_type": "code",
      "source": [
        "bird.fly()"
      ],
      "metadata": {
        "colab": {
          "base_uri": "https://localhost:8080/"
        },
        "id": "uThMWeWvDM-U",
        "outputId": "5abecc76-abc9-43f7-e0aa-f90a59a44e6a"
      },
      "execution_count": null,
      "outputs": [
        {
          "output_type": "stream",
          "name": "stdout",
          "text": [
            "i am from bird class\n"
          ]
        }
      ]
    },
    {
      "cell_type": "code",
      "source": [
        "sparrow=Sparrow()\n",
        "sparrow.fly()"
      ],
      "metadata": {
        "colab": {
          "base_uri": "https://localhost:8080/"
        },
        "id": "WIGoumDYDO8a",
        "outputId": "113dece9-7668-4b2a-e036-a290be57be84"
      },
      "execution_count": null,
      "outputs": [
        {
          "output_type": "stream",
          "name": "stdout",
          "text": [
            "i am from the sparrow class\n"
          ]
        }
      ]
    },
    {
      "cell_type": "code",
      "source": [
        "penguin=Penguin()\n",
        "penguin.fly()"
      ],
      "metadata": {
        "colab": {
          "base_uri": "https://localhost:8080/"
        },
        "id": "GhZKSfMbDUXx",
        "outputId": "6edd700a-0448-4bc1-8bfe-f0d45e061d8d"
      },
      "execution_count": null,
      "outputs": [
        {
          "output_type": "stream",
          "name": "stdout",
          "text": [
            "i belongs to the pengiun class\n"
          ]
        }
      ]
    },
    {
      "cell_type": "code",
      "source": [
        "#Q5. Write a program to demonstrate encapslation by creating a class BankAccount with private attributes balance and methods to deposit, withdraw, and check balance.\n",
        "\n",
        "class Bankaccount:\n",
        "  def __init__(self, amount) -> None:\n",
        "    self.__amount=amount                  #making amount private(encapsulation)\n",
        "\n",
        "  def deposite(self, amount):\n",
        "    self.__amount=self.__amount+amount\n",
        "\n",
        "  def withdraw(self, withdraw):\n",
        "    if withdraw>self.__amount:\n",
        "      print(\"insufficient balance\")\n",
        "\n",
        "    else:\n",
        "      self.__amount=self.__amount-withdraw\n",
        "\n",
        "  def show_balance(self):\n",
        "    return self.__amount"
      ],
      "metadata": {
        "id": "zdiv810ZDerP"
      },
      "execution_count": null,
      "outputs": []
    },
    {
      "cell_type": "code",
      "source": [
        "bank= Bankaccount(100)\n",
        "bank.show_balance()"
      ],
      "metadata": {
        "colab": {
          "base_uri": "https://localhost:8080/"
        },
        "id": "HdJO2hGdGDpT",
        "outputId": "d75954b4-775d-4b02-b1fa-21c626a20005"
      },
      "execution_count": null,
      "outputs": [
        {
          "output_type": "execute_result",
          "data": {
            "text/plain": [
              "100"
            ]
          },
          "metadata": {},
          "execution_count": 31
        }
      ]
    },
    {
      "cell_type": "code",
      "source": [
        "bank.deposite(100)\n",
        "bank.show_balance()"
      ],
      "metadata": {
        "colab": {
          "base_uri": "https://localhost:8080/"
        },
        "id": "maV2Y3pdGMKF",
        "outputId": "0d17cd5f-b27f-4b57-b1c4-2c19fc721122"
      },
      "execution_count": null,
      "outputs": [
        {
          "output_type": "execute_result",
          "data": {
            "text/plain": [
              "200"
            ]
          },
          "metadata": {},
          "execution_count": 32
        }
      ]
    },
    {
      "cell_type": "code",
      "source": [
        "bank.withdraw(300)"
      ],
      "metadata": {
        "colab": {
          "base_uri": "https://localhost:8080/"
        },
        "id": "HqSYIFggGRi6",
        "outputId": "88d2b9cd-fd38-4eae-b7ae-66062c56cc56"
      },
      "execution_count": null,
      "outputs": [
        {
          "output_type": "stream",
          "name": "stdout",
          "text": [
            "insufficient balance\n"
          ]
        }
      ]
    },
    {
      "cell_type": "code",
      "source": [
        "bank.withdraw(50)"
      ],
      "metadata": {
        "id": "i7cXDqO3GVan"
      },
      "execution_count": null,
      "outputs": []
    },
    {
      "cell_type": "code",
      "source": [
        "bank.show_balance()"
      ],
      "metadata": {
        "colab": {
          "base_uri": "https://localhost:8080/"
        },
        "id": "bgsElrLdGYuU",
        "outputId": "3b8ebc4f-227d-46aa-f82e-c75e9dabcc3f"
      },
      "execution_count": null,
      "outputs": [
        {
          "output_type": "execute_result",
          "data": {
            "text/plain": [
              "150"
            ]
          },
          "metadata": {},
          "execution_count": 35
        }
      ]
    },
    {
      "cell_type": "code",
      "source": [
        "bank._Bankaccount__amount     # accessing the private class"
      ],
      "metadata": {
        "colab": {
          "base_uri": "https://localhost:8080/"
        },
        "id": "kDufDfVlGbbf",
        "outputId": "ac444672-f06e-48c0-cf73-3d3b66baf068"
      },
      "execution_count": null,
      "outputs": [
        {
          "output_type": "execute_result",
          "data": {
            "text/plain": [
              "150"
            ]
          },
          "metadata": {},
          "execution_count": 37
        }
      ]
    },
    {
      "cell_type": "code",
      "source": [
        "#Q6. Demonstrate runtime polymorphims using a method play() in a base class instrument derive classes guitar and piano that impement their own version of play ().\n",
        "class Instrument :\n",
        "  def play(self):\n",
        "    print(\"Instruments are best thing to heal the life\")\n",
        "\n",
        "class Guitar(Instrument):                                     #method overriding\n",
        "  def play(self):\n",
        "    print(\"For me guitar is the best instrument\")\n",
        "\n",
        "class Piano (Instrument):\n",
        "  def play(self):\n",
        "    print(\"For me professional piano is the best instrument\")\n"
      ],
      "metadata": {
        "id": "_prYtN1dHJFH"
      },
      "execution_count": null,
      "outputs": []
    },
    {
      "cell_type": "code",
      "source": [
        "inst= Instrument()\n",
        "inst.play()"
      ],
      "metadata": {
        "colab": {
          "base_uri": "https://localhost:8080/"
        },
        "id": "6P6VfAOPNA6Y",
        "outputId": "e0a23247-1ce3-4cc8-a3d2-c66759a2f915"
      },
      "execution_count": null,
      "outputs": [
        {
          "output_type": "stream",
          "name": "stdout",
          "text": [
            "Instruments are best thing to heal the life\n"
          ]
        }
      ]
    },
    {
      "cell_type": "code",
      "source": [
        "git=Guitar()\n",
        "git.play()"
      ],
      "metadata": {
        "colab": {
          "base_uri": "https://localhost:8080/"
        },
        "id": "973M7sScNFCr",
        "outputId": "a401c5e6-28bb-464a-db5d-4e4a100b8ac6"
      },
      "execution_count": null,
      "outputs": [
        {
          "output_type": "stream",
          "name": "stdout",
          "text": [
            "For me guitar is the best instrument\n"
          ]
        }
      ]
    },
    {
      "cell_type": "code",
      "source": [
        "piano=Piano()\n",
        "piano.play()"
      ],
      "metadata": {
        "colab": {
          "base_uri": "https://localhost:8080/"
        },
        "id": "tbWMwsETNN7C",
        "outputId": "a841fb95-8188-4d56-b41d-6484b68f43b4"
      },
      "execution_count": null,
      "outputs": [
        {
          "output_type": "stream",
          "name": "stdout",
          "text": [
            "For me professional piano is the best instrument\n"
          ]
        }
      ]
    },
    {
      "cell_type": "code",
      "source": [
        "#Q7. Create a class Mathoperation with a class method add_numbers() to add two numbers and a static method subtract_numbers() to subtract two numbers.\n",
        "\n",
        "class Mathoperation:\n",
        "  @classmethod                    #classmethod\n",
        "  def add_numbers(cls, x,y):\n",
        "    return x.__add__(y)\n",
        "\n",
        "  @staticmethod                   #staticmethod\n",
        "  def subtract_numbers(x,y):\n",
        "    return x.__sub__(y)"
      ],
      "metadata": {
        "id": "oAdNdOvGNTXC"
      },
      "execution_count": null,
      "outputs": []
    },
    {
      "cell_type": "code",
      "source": [
        "Mathoperation.add(10,20)"
      ],
      "metadata": {
        "colab": {
          "base_uri": "https://localhost:8080/"
        },
        "id": "1GUuUf5DOcjp",
        "outputId": "cdf2254d-2421-4faa-df72-9a2d0614d191"
      },
      "execution_count": null,
      "outputs": [
        {
          "output_type": "execute_result",
          "data": {
            "text/plain": [
              "30"
            ]
          },
          "metadata": {},
          "execution_count": 44
        }
      ]
    },
    {
      "cell_type": "code",
      "source": [
        "Mathoperation.subtract(10,20)"
      ],
      "metadata": {
        "colab": {
          "base_uri": "https://localhost:8080/"
        },
        "id": "T3E4_haUOg4g",
        "outputId": "9ea464f2-4581-4534-992a-6458a399fac9"
      },
      "execution_count": null,
      "outputs": [
        {
          "output_type": "execute_result",
          "data": {
            "text/plain": [
              "-10"
            ]
          },
          "metadata": {},
          "execution_count": 45
        }
      ]
    },
    {
      "cell_type": "code",
      "source": [
        "#Q8. Implement a class Person with a class method to count the total number of persons created.\n",
        "\n",
        "class Person :\n",
        "  total_person=0\n",
        "  def adding_person_to_total_person(self, name):\n",
        "    Person.total_person= Person.total_person+1\n",
        "\n",
        "\n",
        "  @property\n",
        "  def total_count_of_person(self):\n",
        "    return Person.total_person\n"
      ],
      "metadata": {
        "id": "heZPhGRXOlj6"
      },
      "execution_count": null,
      "outputs": []
    },
    {
      "cell_type": "code",
      "source": [
        "p1= Person()"
      ],
      "metadata": {
        "id": "L4VVXyGpP4DM"
      },
      "execution_count": null,
      "outputs": []
    },
    {
      "cell_type": "code",
      "source": [
        "p1.total_person"
      ],
      "metadata": {
        "colab": {
          "base_uri": "https://localhost:8080/"
        },
        "id": "6FRl3RqMP9lS",
        "outputId": "81d1dcb9-8b02-4b7b-f8ec-a7d6f3e4b458"
      },
      "execution_count": null,
      "outputs": [
        {
          "output_type": "execute_result",
          "data": {
            "text/plain": [
              "0"
            ]
          },
          "metadata": {},
          "execution_count": 72
        }
      ]
    },
    {
      "cell_type": "code",
      "source": [
        "p1.adding_person_to_total_person(\"sagar\")"
      ],
      "metadata": {
        "id": "tT1xEplBQ5V4"
      },
      "execution_count": null,
      "outputs": []
    },
    {
      "cell_type": "code",
      "source": [
        "p1.total_count_of_person"
      ],
      "metadata": {
        "colab": {
          "base_uri": "https://localhost:8080/"
        },
        "id": "8_yUircLQ-Hc",
        "outputId": "f687bcd3-c27e-4e0e-ae6e-cdc27bd2e204"
      },
      "execution_count": null,
      "outputs": [
        {
          "output_type": "execute_result",
          "data": {
            "text/plain": [
              "1"
            ]
          },
          "metadata": {},
          "execution_count": 74
        }
      ]
    },
    {
      "cell_type": "code",
      "source": [
        "#Q9.  Write a class Fraction with attributes numerator and denominator. Override the str method to display the fraction as \"numerator/denominator\".\n",
        "\n",
        "class Fraction :\n",
        "  def __init__(self):\n",
        "    self.numerator=3\n",
        "    self.denominator=2\n",
        "\n",
        "  def __str__(self):\n",
        "    return(f\"{self.numerator}/{self.denominator}\")"
      ],
      "metadata": {
        "id": "TwnxmiJ1RByz"
      },
      "execution_count": null,
      "outputs": []
    },
    {
      "cell_type": "code",
      "source": [
        "Fraction()"
      ],
      "metadata": {
        "colab": {
          "base_uri": "https://localhost:8080/"
        },
        "id": "voGOZ8qnXDGm",
        "outputId": "777bd8e3-301c-4947-b6b8-d32b0dde791f"
      },
      "execution_count": null,
      "outputs": [
        {
          "output_type": "execute_result",
          "data": {
            "text/plain": [
              "<__main__.Fraction at 0x7abf547f53d0>"
            ]
          },
          "metadata": {},
          "execution_count": 94
        }
      ]
    },
    {
      "cell_type": "code",
      "source": [
        "print(Fraction())"
      ],
      "metadata": {
        "colab": {
          "base_uri": "https://localhost:8080/"
        },
        "id": "iaFYj_s9XHUY",
        "outputId": "95e7ec98-03b9-4712-a882-6d5833feada1"
      },
      "execution_count": null,
      "outputs": [
        {
          "output_type": "stream",
          "name": "stdout",
          "text": [
            "3/2\n"
          ]
        }
      ]
    },
    {
      "cell_type": "code",
      "source": [
        "#Q10.  Demonstrate operator overloading by creating a class Vector and overriding the add method to add two vectors\n",
        "\n",
        "class Vector:\n",
        "  def __init__(self, x,y):\n",
        "    self.x=x\n",
        "    self.y=y\n",
        "\n",
        "  def add (self, others):\n"
      ],
      "metadata": {
        "id": "77YdqodKRPeB"
      },
      "execution_count": null,
      "outputs": []
    },
    {
      "cell_type": "code",
      "source": [
        "#Q11. Create a class Person with attributes name and age. Add a method greet() that prints \"Hello, my name is {name} and I am {age} years old.\n",
        "\n",
        "class Person:\n",
        "  def __init__(self, name,age):\n",
        "    self.name=name\n",
        "    self.age=age\n",
        "\n",
        "  def greet(self):\n",
        "    return f\"Hello My name is {self.name}, and i am {self.age} years old.\""
      ],
      "metadata": {
        "id": "rRBgPRcmRPYz"
      },
      "execution_count": null,
      "outputs": []
    },
    {
      "cell_type": "code",
      "source": [
        "p1= Person(\"ajay\", 26)"
      ],
      "metadata": {
        "id": "nl1r1WTUZlTO"
      },
      "execution_count": null,
      "outputs": []
    },
    {
      "cell_type": "code",
      "source": [
        "p1.greet()"
      ],
      "metadata": {
        "colab": {
          "base_uri": "https://localhost:8080/",
          "height": 35
        },
        "id": "4YzVOFhLZqwx",
        "outputId": "484f92bf-73b4-4221-c056-b953be08a396"
      },
      "execution_count": null,
      "outputs": [
        {
          "output_type": "execute_result",
          "data": {
            "text/plain": [
              "'Hello My name is ajay, and i am 26 years old.'"
            ],
            "application/vnd.google.colaboratory.intrinsic+json": {
              "type": "string"
            }
          },
          "metadata": {},
          "execution_count": 99
        }
      ]
    },
    {
      "cell_type": "code",
      "source": [
        "#Q12. Implement a class Student with attributes name and grades. Create a method average_grade() to compute the average of the grades.\n",
        "class Student:\n",
        "  def __init__ (self, name, grade):\n",
        "    self.name= name\n",
        "    self.grade=grade\n",
        "\n",
        "  def average_grade(self):\n",
        "    if 90<=self.grade<100:\n",
        "      return \"A+\"\n",
        "    elif 80<=self.grade<90:\n",
        "      return \"A\"\n",
        "    elif 70<=self.grade<80:\n",
        "      return \"B+\"\n",
        "    elif 60<=self.grade<70:\n",
        "      return \"B\"\n",
        "    elif 50<=self.grade<60:\n",
        "      return \"C\"\n",
        "    else:\n",
        "      return \"fail\""
      ],
      "metadata": {
        "id": "myvlcSrBRPSF"
      },
      "execution_count": null,
      "outputs": []
    },
    {
      "cell_type": "code",
      "source": [
        "stud= Student(\"Ajay\", 95)\n",
        "stud.average_grade()"
      ],
      "metadata": {
        "colab": {
          "base_uri": "https://localhost:8080/",
          "height": 35
        },
        "id": "SpPIrLHjbHby",
        "outputId": "5654e662-5468-4ec1-8b2d-1974cfa707d7"
      },
      "execution_count": null,
      "outputs": [
        {
          "output_type": "execute_result",
          "data": {
            "text/plain": [
              "'A+'"
            ],
            "application/vnd.google.colaboratory.intrinsic+json": {
              "type": "string"
            }
          },
          "metadata": {},
          "execution_count": 105
        }
      ]
    },
    {
      "cell_type": "code",
      "source": [
        "#Q13. Create a class Rectangle with methods set_dimensions() to set the dimensions and area() to calculate the area.\n",
        "\n",
        "class Rectangle:\n",
        "  def __init__(self, length , width):\n",
        "    self.length=length\n",
        "    self.width=width\n",
        "\n",
        "  def area (self):\n",
        "      return f\"The area of the rectangle is:\" ,self.length*self.width"
      ],
      "metadata": {
        "id": "qJ2D8tM_RPNF"
      },
      "execution_count": null,
      "outputs": []
    },
    {
      "cell_type": "code",
      "source": [
        "rect=Rectangle(2,3)\n",
        "rect.area()"
      ],
      "metadata": {
        "colab": {
          "base_uri": "https://localhost:8080/"
        },
        "id": "_ySggPmHcGO9",
        "outputId": "86213c85-dcf9-4168-f74d-9dcdee85c989"
      },
      "execution_count": null,
      "outputs": [
        {
          "output_type": "execute_result",
          "data": {
            "text/plain": [
              "('The area of the rectangle is:', 6)"
            ]
          },
          "metadata": {},
          "execution_count": 110
        }
      ]
    },
    {
      "cell_type": "code",
      "source": [
        "#Q14. Create a class Employee with a method calculate_salary() that computes the salary based on hours worked and hourly rate. Create a derived class Manager that adds a bonus to the salary\n",
        "\n",
        "class Employee:\n",
        "  def __init__(self) -> None:\n",
        "    pass"
      ],
      "metadata": {
        "id": "LxsPU2sqRPIL"
      },
      "execution_count": null,
      "outputs": []
    },
    {
      "cell_type": "code",
      "source": [
        "#Q15. Create a class Product with attributes name, price, and quantity. Implement a method total_price() that calculates the total price of the product.\n",
        "\n",
        "class Product:\n",
        "  def __init__(self, name, price, quantity):\n",
        "    self.name=name\n",
        "    self.price=price\n",
        "    self.quantity=quantity\n",
        "\n",
        "  def total_price(self):\n",
        "    return f\"The total price is:\",self.price*self.quantity"
      ],
      "metadata": {
        "id": "lqhG8kj5RPC_"
      },
      "execution_count": null,
      "outputs": []
    },
    {
      "cell_type": "code",
      "source": [
        "pro=Product(\"pen\", 10, 2)\n",
        "pro.total_price()"
      ],
      "metadata": {
        "colab": {
          "base_uri": "https://localhost:8080/"
        },
        "id": "64QwRvJwlEhs",
        "outputId": "009df0fb-4003-4dac-afd1-3e34c9eef30c"
      },
      "execution_count": null,
      "outputs": [
        {
          "output_type": "execute_result",
          "data": {
            "text/plain": [
              "('The total price is:', 20)"
            ]
          },
          "metadata": {},
          "execution_count": 125
        }
      ]
    },
    {
      "cell_type": "code",
      "source": [
        "#Q16. Create a class Animal with an abstract method sound(). Create two derived classes Cow and Sheep that implement the sound() method.\n",
        "from abc import ABC, abstractmethod\n",
        "\n",
        "class Animal:\n",
        "  @abstractmethod\n",
        "  def sound(ABC):\n",
        "    pass\n",
        "\n",
        "class Cow(Animal):\n",
        "  def sound(self):\n",
        "    return \"Moo\"\n",
        "\n",
        "class Sheep(Animal):\n",
        "  def sound(self):\n",
        "    return \"Baa\""
      ],
      "metadata": {
        "id": "6U9WNAr3RO-O"
      },
      "execution_count": null,
      "outputs": []
    },
    {
      "cell_type": "code",
      "source": [
        "animal= Animal()\n",
        "animal.sound()"
      ],
      "metadata": {
        "colab": {
          "base_uri": "https://localhost:8080/"
        },
        "id": "JiXioGrIie6l",
        "outputId": "d375391d-183d-4292-8fc4-b0f922f029e5"
      },
      "execution_count": null,
      "outputs": [
        {
          "output_type": "stream",
          "name": "stdout",
          "text": [
            "Animal sound\n"
          ]
        }
      ]
    },
    {
      "cell_type": "code",
      "source": [
        "c1=Cow()\n",
        "c1.sound()"
      ],
      "metadata": {
        "colab": {
          "base_uri": "https://localhost:8080/",
          "height": 35
        },
        "id": "i3NEdGGNieca",
        "outputId": "1987ca11-0073-48d3-f180-c0c7d64a77db"
      },
      "execution_count": null,
      "outputs": [
        {
          "output_type": "execute_result",
          "data": {
            "text/plain": [
              "'Moo'"
            ],
            "application/vnd.google.colaboratory.intrinsic+json": {
              "type": "string"
            }
          },
          "metadata": {},
          "execution_count": 116
        }
      ]
    },
    {
      "cell_type": "code",
      "source": [
        "sheep=Sheep()\n",
        "sheep.sound()"
      ],
      "metadata": {
        "colab": {
          "base_uri": "https://localhost:8080/",
          "height": 35
        },
        "id": "FSJnoiuAi3TV",
        "outputId": "cd9d25de-7171-495c-a479-0c75801db630"
      },
      "execution_count": null,
      "outputs": [
        {
          "output_type": "execute_result",
          "data": {
            "text/plain": [
              "'Baa'"
            ],
            "application/vnd.google.colaboratory.intrinsic+json": {
              "type": "string"
            }
          },
          "metadata": {},
          "execution_count": 118
        }
      ]
    },
    {
      "cell_type": "code",
      "source": [
        "#Q17. Create a class Book with attributes title, author, and year_published. Add a method get_book_info() that returns a formatted string with the book's details.\n",
        "\n",
        "class Book:\n",
        "  def __init__(self,title,author,year_published):\n",
        "    self.title=title\n",
        "    self.author=author\n",
        "    self.year_published=year_published\n",
        "\n",
        "  def get_book_info(self):\n",
        "    return f\"{self.title} by {self.author} and published in year {self.year_published}\"\n"
      ],
      "metadata": {
        "id": "rNnu_ZKnRO42"
      },
      "execution_count": null,
      "outputs": []
    },
    {
      "cell_type": "code",
      "source": [
        "b1= Book(\"Data science\", \"Ajay\", 1999)\n",
        "b1.get_book_info()"
      ],
      "metadata": {
        "colab": {
          "base_uri": "https://localhost:8080/",
          "height": 35
        },
        "id": "PFb0ytKF_BzE",
        "outputId": "6278f3e3-8047-4c02-f34a-8dfd89d8daaf"
      },
      "execution_count": null,
      "outputs": [
        {
          "output_type": "execute_result",
          "data": {
            "text/plain": [
              "'Data science by Ajay and published in year 1999'"
            ],
            "application/vnd.google.colaboratory.intrinsic+json": {
              "type": "string"
            }
          },
          "metadata": {},
          "execution_count": 162
        }
      ]
    },
    {
      "cell_type": "code",
      "source": [
        "#Q18. Create a class House with attributes address and price. Create a derived class Mansion that adds an attribute number_of_rooms.\n",
        "\n",
        "class House:\n",
        "  def __init__ (self , address, price):\n",
        "    self.address=address\n",
        "    self.price=price\n",
        "\n",
        "class Mansion2(House):\n",
        "  def __init__(self,number_of_rooms):\n",
        "    super().__init__()\n",
        "    self.number_of_rooms=number_of_rooms\n"
      ],
      "metadata": {
        "id": "9jT_w0KiROwT"
      },
      "execution_count": null,
      "outputs": []
    },
    {
      "cell_type": "code",
      "source": [
        "h1= House(\"delhi\",1000)"
      ],
      "metadata": {
        "id": "72F4hrEtnk5o"
      },
      "execution_count": null,
      "outputs": []
    }
  ]
}